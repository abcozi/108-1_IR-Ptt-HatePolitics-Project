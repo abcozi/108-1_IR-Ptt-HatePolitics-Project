{
 "cells": [
  {
   "cell_type": "code",
   "execution_count": 1,
   "metadata": {},
   "outputs": [],
   "source": [
    "import requests\n",
    "from bs4 import BeautifulSoup\n",
    "import csv\n",
    "from selenium import webdriver\n",
    "import time\n",
    "from selenium.webdriver.chrome.options import Options"
   ]
  },
  {
   "cell_type": "code",
   "execution_count": 2,
   "metadata": {},
   "outputs": [],
   "source": [
    "import datetime\n",
    "from datetime import timedelta"
   ]
  },
  {
   "cell_type": "code",
   "execution_count": 9,
   "metadata": {},
   "outputs": [],
   "source": [
    "pushUrls = []\n",
    "pushes = []\n",
    "mergedPushes = []\n",
    "userPushes = {}"
   ]
  },
  {
   "cell_type": "code",
   "execution_count": 10,
   "metadata": {},
   "outputs": [],
   "source": [
    "def relatedOrNot(string):\n",
    "    flag = False\n",
    "    keywords = [\"同志\",\"甲\",\"甲甲\",\"同婚\",\"韓國瑜\",\"韓總\",\"韓國魚\",\"蔡英文\",\"蔡\",\"小英\",\"空心菜\",\"宋楚瑜\",\\\n",
    "               \"台灣民眾黨\",\"台民\",\"台民黨\",\"時代力量\", \"時力\",\"背刺力量\", \"加蔥力量\",\"背刺\",\"加蔥\",\\\n",
    "               \"黃國昌\", \"國昌\",\"中共\", \"五毛\",\"426\",\"支那\",\"維尼\",\"賤畜\",\"大陸\",\\\n",
    "                \"習維尼\",\"耿爽\",\"中國\",\"國台辦\",\"陸委會\",\"習近平\",\"北京\",\"陸生\",\"網軍\",\"間諜\",\"王立強\",\"吳斯懷\",\\\n",
    "               \"強國\",\"共產黨\",\"統\",\"統一\",\"統獨\",\"一國\",\"兩制\",\"台獨\",\"臺灣獨立\",\"臺獨\",\"獨派\",\"台灣女性\",\\\n",
    "               \"台女\",\"臺灣女性\",\"臺女\",\"母豬\",\"CCR\",\"ㄈㄈ尺\",\"自助餐\",\"女權\",\"女森\",\"柯文哲\",\"柯P\",\"柯p\",\\\n",
    "               \"柯\",\"反送中\",\"港\",\"黑警\",\"港警\",\"香港\",\"黃之鋒\",\"難民法\",\"政治\",\"庇護\",\"眾志\"]\n",
    "    for k in keywords:\n",
    "        if k in string:\n",
    "            return True\n",
    "    return False"
   ]
  },
  {
   "cell_type": "code",
   "execution_count": 11,
   "metadata": {},
   "outputs": [],
   "source": [
    "def getPushFromBoard(board, amount, maxN):\n",
    "    i = 0\n",
    "    page = maxN\n",
    "    #page = 3783\n",
    "    li = []\n",
    "    opts = Options()\n",
    "    #proxy = \"socks5://localhost:9050\"\n",
    "    #opts.add_argument('--proxy-server={}'.format(proxy))\n",
    "    ua = \"Mozilla/5.0 (Windows NT 10.0; WOW64; rv:53.0) Gecko/20100101 Firefox/53.0\"\n",
    "    opts.add_argument(\"user-agent={}\".format(ua))\n",
    "    browser = webdriver.Chrome(executable_path='/usr/local/bin/chromedriver',options=opts)\n",
    "    browser2 = webdriver.Chrome(executable_path='/usr/local/bin/chromedriver',options=opts)\n",
    "    \n",
    "    #browser = webdriver.Chrome()\n",
    "    #browser2 = webdriver.Chrome()\n",
    "    '''\n",
    "    s = browser.Session()\n",
    "    s.headers['User-Agent'] = 'Mozilla/5.0 (Macintosh; Intel Mac OS X 10_9_2) AppleWebKit/537.36 (KHTML, like Gecko) Chrome/34.0.1847.131 Safari/537.36'\n",
    "    s2 = browser2.Session()\n",
    "    s2.headers['User-Agent'] = 'Mozilla/5.0 (Macintosh; Intel Mac OS X 10_9_2) AppleWebKit/537.36 (KHTML, like Gecko) Chrome/34.0.1847.131 Safari/537.36'\n",
    "    \n",
    "    '''\n",
    "    \n",
    "    #print(\"entered page\")\n",
    "    while page >= 248:\n",
    "        try:\n",
    "            #print(\"i: \"+str(i))\n",
    "            browser.get(\"https://www.ptt.cc/bbs/\"+board+\"/index\"+str(page)+\".html\")\n",
    "            browser2.get(\"https://www.ptt.cc/bbs/\"+board+\"/index\"+str(page)+\".html\")\n",
    "            try:\n",
    "                btn = browser.find_elements_by_class_name(\"btn-big\")[0]\n",
    "                if btn is not None:\n",
    "                    btn.click()\n",
    "            except:\n",
    "                pass\n",
    "            soup = BeautifulSoup(browser.page_source, 'html.parser')\n",
    "            selectTag = '.title>a'\n",
    "\n",
    "            for ana in soup.select(selectTag):\n",
    "                if True:\n",
    "                    if board == \"Gossiping\":\n",
    "                        if not relatedOrNot(ana.text):\n",
    "                            continue\n",
    "                    pushUrls.append(ana[\"href\"])\n",
    "                    url2 = \"https://www.ptt.cc/\"+ana[\"href\"]\n",
    "                    url2Txt = ana.text\n",
    "                    #go to the article page\n",
    "                    if \"公告\" not in url2Txt:\n",
    "                        browser2.get(url2)\n",
    "                        try:\n",
    "                            btn2 = browser2.find_elements_by_class_name(\"btn-big\")[0]\n",
    "                            \n",
    "                            if btn2 is not None:\n",
    "                                btn2.click()\n",
    "                        except:\n",
    "                            pass\n",
    "\n",
    "                        soup2 = BeautifulSoup(browser2.page_source, 'html.parser')\n",
    "                        pushesForThisArticle = []\n",
    "                        users = {}\n",
    "                        j = 0\n",
    "                        dateTxt = browser2.find_elements_by_class_name('article-meta-value')[3].text\n",
    "                        if dateTxt is None or len(dateTxt) <= 0:\n",
    "                            dateTxt = \"\"\n",
    "                        print(\"page: \"+str(page)+\", amount: \"+str(len(mergedPushes))+\", date: \"+dateTxt+\", \"+url2Txt)\n",
    "                        for p in soup2.select(\".push\"):\n",
    "                            spans = p.select(\"span\")\n",
    "                            if spans is not None and len(spans) >= 4 and spans[1] is not None and spans[1].text is not None and len(spans[1].text) > 0:\n",
    "                                if spans[1].text not in users.keys():\n",
    "                                    users[spans[1].text] = [1, [j]]\n",
    "                                else:\n",
    "                                    users[spans[1].text][0] += 1\n",
    "                                    users[spans[1].text][1].append(j)\n",
    "                                time2 = spans[3].text.split(\" \")[len(spans[3].text.split(\" \"))-1].replace(\"\\n\", \"\")\n",
    "                                if \":\" in time2 and time2.replace(\":\", \"\").isnumeric():\n",
    "                                    row = [str(j),spans[0].text, spans[1].text, spans[2].text[2:], time2]\n",
    "                                    #print(row)\n",
    "                                    pushesForThisArticle.append(row)\n",
    "                                    j += 1\n",
    "                            #pushes.append(row)\n",
    "                        #print(users)\n",
    "                        #處理推文跨行, 根據留言時間差距一分內算同一則推文處理（合併起來）\n",
    "                        continueFlag = []\n",
    "                        for u in users:\n",
    "                            row = []\n",
    "                            for k in range(len(users[u][1])):\n",
    "                                flag = False\n",
    "                                preTime = datetime.datetime.strptime(pushesForThisArticle[users[u][1][k]][4], '%H:%M')\n",
    "                                if k+1 < len(users[u][1]):\n",
    "                                    thisTime = datetime.datetime.strptime(pushesForThisArticle[users[u][1][k+1]][4], '%H:%M')\n",
    "                                    if (thisTime - preTime).seconds <= 60:\n",
    "                                        flag = True\n",
    "                                        #print(\"yes\")\n",
    "                                    else:\n",
    "                                        pass\n",
    "                                        #print(str((thisTime - preTime).seconds))\n",
    "                                        #orThisArticle[u[1][k]][3] += pushesForThisArticle[u[1][k+1]][3]\n",
    "                                if flag:\n",
    "                                    row.append(1)\n",
    "                                else:\n",
    "                                    row.append(0)\n",
    "                            lockV = 0\n",
    "                            for r in range(len(row)):\n",
    "                                if lockV > 0:\n",
    "                                    r += 1\n",
    "                                    lockV -= 1\n",
    "                                    continue\n",
    "                                else:\n",
    "                                    i += 1\n",
    "                                    content = \"\"\n",
    "                                    if row[r] == 0:\n",
    "                                        content = pushesForThisArticle[users[u][1][r]][3]\n",
    "                                        mergedPushes.append([str(i), u, content,url2Txt, ana[\"href\"], dateTxt])\n",
    "                                    else:\n",
    "                                        content = \"\"\n",
    "                                        while row[r] == 1:\n",
    "                                            content += pushesForThisArticle[users[u][1][r]][3]\n",
    "                                            #pushesForThisArticle[users[u][1][r]][3] = \"\"\n",
    "                                            r += 1\n",
    "                                            lockV += 1\n",
    "                                        content += pushesForThisArticle[users[u][1][r]][3]\n",
    "                                        #print(content+\", r: \"+str(r))\n",
    "                                    #if len(content) >= 1:\n",
    "                                        mergedPushes.append([str(i), u, content,url2Txt, ana[\"href\"], dateTxt])\n",
    "                                #print(content)\n",
    "                            #merged_p = \"\"\n",
    "                            #for k in range(len(listToMerge)):\n",
    "                            #    merged_p += pushesForThisArticle[u[1][k]][3]\n",
    "                                        #mergedPushes.append(str(i+1), u[0], pushesForThisArticle[u[1][k]][3]+\\\n",
    "                                        #                    pushesForThisArticle[u[1][k+1]][3])\n",
    "                        #print(pushesForThisArticle) \n",
    "                else:\n",
    "                    break\n",
    "            page -= 1\n",
    "        except Exception as e:\n",
    "            print(e)\n",
    "            #page -= 1\n",
    "            #time.sleep(5)\n",
    "            return page\n",
    "    \n",
    "    browser.close()\n",
    "    browser2.close()\n",
    "    return page"
   ]
  },
  {
   "cell_type": "code",
   "execution_count": null,
   "metadata": {},
   "outputs": [
    {
     "name": "stdout",
     "output_type": "stream",
     "text": [
      "nowp: 2645\n",
      "page: 2645, amount: 0, date: Wed Dec 18 20:39:49 2019, [黑特] 政見發表會/蔡宣揚政績 韓展現高度\n",
      "page: 2645, amount: 16, date: Wed Dec 18 20:40:03 2019, [黑特] 蔡不看稿會死阿\n",
      "page: 2645, amount: 53, date: Wed Dec 18 20:40:44 2019, [討論] 狼人殺邏輯，後置位發言是不是比較有利？\n"
     ]
    }
   ],
   "source": [
    "#Gossiping & HatePolitics各抓6000個\n",
    "initMax = 3783\n",
    "nowp = 2645\n",
    "while nowp >= 248:\n",
    "    try:\n",
    "        print(\"nowp: \"+str(nowp))\n",
    "        page = getPushFromBoard(\"HatePolitics\", 6000, nowp)\n",
    "        nowp = page -1\n",
    "    except Exception as e:\n",
    "        nowp -= 1\n",
    "        print(\"e: nowp: \"+str(nowp))\n",
    "        print(e)\n",
    "        pass"
   ]
  },
  {
   "cell_type": "code",
   "execution_count": 7,
   "metadata": {},
   "outputs": [
    {
     "name": "stdout",
     "output_type": "stream",
     "text": [
      "23022\n"
     ]
    }
   ],
   "source": [
    "print(len(mergedPushes))"
   ]
  },
  {
   "cell_type": "code",
   "execution_count": 8,
   "metadata": {},
   "outputs": [],
   "source": [
    "with open('pushesHPall_-2645.csv', 'w', newline='') as csvFile:\n",
    "  # 建立 CSV 檔寫入器\n",
    "    writer = csv.writer(csvFile)\n",
    "    writer.writerow([\"num\", \"id\", \"content\", \"article\", \"articleUrl\", \"dateTime\"])#write header\n",
    "    for i in range(len(mergedPushes)):\n",
    "        if str(mergedPushes[i][1]) not in userPushes.keys():\n",
    "            userPushes[mergedPushes[i][1]] = [str(i+1)]\n",
    "        else:\n",
    "            userPushes[mergedPushes[i][1]].append(str(i+1))\n",
    "        writer.writerow([str(i+1), mergedPushes[i][1],mergedPushes[i][2],mergedPushes[i][3],mergedPushes[i][4],mergedPushes[i][5]])"
   ]
  },
  {
   "cell_type": "code",
   "execution_count": 201,
   "metadata": {},
   "outputs": [],
   "source": [
    "pushesGS = getPushFromBoard(\"Gossiping\", 6000, 38895)"
   ]
  },
  {
   "cell_type": "code",
   "execution_count": 202,
   "metadata": {},
   "outputs": [],
   "source": [
    "with open('pushesGSall.csv', 'w', newline='') as csvFile:\n",
    "  # 建立 CSV 檔寫入器\n",
    "    writer = csv.writer(csvFile)\n",
    "    writer.writerow([\"num\", \"id\", \"content\", \"article\"])#write header\n",
    "    for i in range(len(pushesGS[1])):\n",
    "        writer.writerow([str(i+1), pushesGS[1][i][1],pushesGS[1][i][2]])"
   ]
  },
  {
   "cell_type": "code",
   "execution_count": null,
   "metadata": {},
   "outputs": [],
   "source": []
  }
 ],
 "metadata": {
  "kernelspec": {
   "display_name": "Python 3",
   "language": "python",
   "name": "python3"
  },
  "language_info": {
   "codemirror_mode": {
    "name": "ipython",
    "version": 3
   },
   "file_extension": ".py",
   "mimetype": "text/x-python",
   "name": "python",
   "nbconvert_exporter": "python",
   "pygments_lexer": "ipython3",
   "version": "3.7.3"
  }
 },
 "nbformat": 4,
 "nbformat_minor": 4
}
