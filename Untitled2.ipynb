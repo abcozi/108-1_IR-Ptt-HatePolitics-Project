{
 "cells": [
  {
   "cell_type": "code",
   "execution_count": 22,
   "metadata": {},
   "outputs": [],
   "source": [
    "import jieba"
   ]
  },
  {
   "cell_type": "code",
   "execution_count": 61,
   "metadata": {},
   "outputs": [],
   "source": [
    "jieba.load_userdict(\"dictionary.txt\")"
   ]
  },
  {
   "cell_type": "code",
   "execution_count": 62,
   "metadata": {},
   "outputs": [],
   "source": [
    "def jiebaCut(string):\n",
    "    seg_list = jieba.cut(string)\n",
    "    print(\" / \".join(seg_list))"
   ]
  },
  {
   "cell_type": "code",
   "execution_count": 63,
   "metadata": {},
   "outputs": [
    {
     "name": "stdout",
     "output_type": "stream",
     "text": [
      "我 / 早 / 就 / 說 / 柯粉 / 是 / 隱性 / 選民 /   / 默默 / 期待 / 台灣\n"
     ]
    }
   ],
   "source": [
    "jiebaCut(\"我早就說柯粉是隱性選民 默默期待台灣\")"
   ]
  },
  {
   "cell_type": "code",
   "execution_count": 64,
   "metadata": {},
   "outputs": [
    {
     "name": "stdout",
     "output_type": "stream",
     "text": [
      "這次 / 投小英 / 的 / 柯粉 / 多得是 / 。\n"
     ]
    }
   ],
   "source": [
    "jiebaCut(\"這次投小英的柯粉多得是。\")"
   ]
  },
  {
   "cell_type": "code",
   "execution_count": 65,
   "metadata": {},
   "outputs": [
    {
     "name": "stdout",
     "output_type": "stream",
     "text": [
      "2022 / 打 / 蟑螂\n"
     ]
    }
   ],
   "source": [
    "jiebaCut(\"2022打蟑螂\")"
   ]
  },
  {
   "cell_type": "code",
   "execution_count": 66,
   "metadata": {},
   "outputs": [
    {
     "name": "stdout",
     "output_type": "stream",
     "text": [
      "1 / / / 11 / 見 / 真章 /   / 跟 / 綠蟑 / 吵 / 我 / 嫌 / 髒\n"
     ]
    }
   ],
   "source": [
    "jiebaCut(\"1/11見真章 跟綠蟑吵我嫌髒\")"
   ]
  },
  {
   "cell_type": "code",
   "execution_count": 67,
   "metadata": {},
   "outputs": [
    {
     "name": "stdout",
     "output_type": "stream",
     "text": [
      "你 / 只 / 看 / 蟑螂 / 文 / 當然 / 活在 / 你 / 的 / 同溫層\n"
     ]
    }
   ],
   "source": [
    "jiebaCut(\"你只看蟑螂文當然活在你的同溫層\")"
   ]
  },
  {
   "cell_type": "code",
   "execution_count": 68,
   "metadata": {},
   "outputs": [
    {
     "name": "stdout",
     "output_type": "stream",
     "text": [
      "整天 / 內湖 / 交通 / 小巨蛋 / 滿意度 / 公宅 /   / 無限 / 迴圈\n"
     ]
    }
   ],
   "source": [
    "jiebaCut(\"整天內湖交通小巨蛋滿意度公宅 無限迴圈\")"
   ]
  },
  {
   "cell_type": "code",
   "execution_count": null,
   "metadata": {},
   "outputs": [],
   "source": []
  }
 ],
 "metadata": {
  "kernelspec": {
   "display_name": "Python 3",
   "language": "python",
   "name": "python3"
  },
  "language_info": {
   "codemirror_mode": {
    "name": "ipython",
    "version": 3
   },
   "file_extension": ".py",
   "mimetype": "text/x-python",
   "name": "python",
   "nbconvert_exporter": "python",
   "pygments_lexer": "ipython3",
   "version": "3.7.3"
  }
 },
 "nbformat": 4,
 "nbformat_minor": 4
}
