{
 "cells": [
  {
   "cell_type": "code",
   "execution_count": 1,
   "metadata": {},
   "outputs": [],
   "source": [
    "import csv"
   ]
  },
  {
   "cell_type": "code",
   "execution_count": 6,
   "metadata": {},
   "outputs": [],
   "source": [
    "newR = []"
   ]
  },
  {
   "cell_type": "code",
   "execution_count": 7,
   "metadata": {},
   "outputs": [],
   "source": [
    "with open('pushesGS6000.csv', newline='') as csvfile:\n",
    "\n",
    "    # 讀取 CSV 檔案內容\n",
    "    rows = csv.reader(csvfile)\n",
    "    i = 0\n",
    "    # 以迴圈輸出每一列\n",
    "    for row in rows:\n",
    "        if i == 0:\n",
    "            i += 1\n",
    "            continue\n",
    "        else:\n",
    "            newR.append(row)\n",
    "            i += 1"
   ]
  },
  {
   "cell_type": "code",
   "execution_count": 8,
   "metadata": {},
   "outputs": [],
   "source": [
    "with open('pushesHP6000.csv', newline='') as csvfile:\n",
    "\n",
    "    # 讀取 CSV 檔案內容\n",
    "    rows = csv.reader(csvfile)\n",
    "    i = 0\n",
    "    # 以迴圈輸出每一列\n",
    "    for row in rows:\n",
    "        if i == 0:\n",
    "            i += 1\n",
    "            continue\n",
    "        else:\n",
    "            newR.append(row)\n",
    "            i += 1"
   ]
  },
  {
   "cell_type": "code",
   "execution_count": 12,
   "metadata": {},
   "outputs": [],
   "source": [
    "with open('all6000.csv', 'w', newline='') as csvFile:\n",
    "  # 建立 CSV 檔寫入器\n",
    "    writer = csv.writer(csvFile)\n",
    "    writer.writerow([\"num\", \"id\", \"content\"])#write header\n",
    "    j = 0\n",
    "    for i in newR:\n",
    "        j += 1\n",
    "        if j > 6000:\n",
    "            writer.writerow([int(i[0])+6000, i[1], i[2]])\n",
    "        else:\n",
    "            writer.writerow(i)"
   ]
  },
  {
   "cell_type": "code",
   "execution_count": 16,
   "metadata": {},
   "outputs": [],
   "source": [
    "#split into three csv\n",
    "contents = [[], [], []]\n",
    "with open('all6000.csv', newline='') as csvfile:\n",
    "    # 讀取 CSV 檔案內容\n",
    "    rows = csv.reader(csvfile)\n",
    "    i = 0\n",
    "    # 以迴圈輸出每一列\n",
    "    for row in rows:\n",
    "        if i == 0:\n",
    "            i += 1\n",
    "            continue\n",
    "        else:\n",
    "            if i <= 4000:\n",
    "                contents[0].append(row)\n",
    "            elif i > 4000 and i <= 8000:\n",
    "                contents[1].append(row)\n",
    "            else:\n",
    "                contents[2].append(row)\n",
    "            i += 1"
   ]
  },
  {
   "cell_type": "code",
   "execution_count": 21,
   "metadata": {},
   "outputs": [],
   "source": [
    "for k in range(3):\n",
    "    with open('4000part'+str(k+1)+'.csv', 'w', newline='') as csvFile:\n",
    "      # 建立 CSV 檔寫入器\n",
    "        writer = csv.writer(csvFile)\n",
    "        writer.writerow([\"num\", \"id\", \"content\", \"class\"])#write header\n",
    "        for i in contents[k]:\n",
    "            writer.writerow([i[0], i[1], i[2], 0])\n",
    "    k += 1"
   ]
  },
  {
   "cell_type": "code",
   "execution_count": null,
   "metadata": {},
   "outputs": [],
   "source": []
  }
 ],
 "metadata": {
  "kernelspec": {
   "display_name": "Python 3",
   "language": "python",
   "name": "python3"
  },
  "language_info": {
   "codemirror_mode": {
    "name": "ipython",
    "version": 3
   },
   "file_extension": ".py",
   "mimetype": "text/x-python",
   "name": "python",
   "nbconvert_exporter": "python",
   "pygments_lexer": "ipython3",
   "version": "3.7.3"
  }
 },
 "nbformat": 4,
 "nbformat_minor": 4
}
