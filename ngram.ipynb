{
 "cells": [
  {
   "cell_type": "code",
   "execution_count": 1,
   "metadata": {},
   "outputs": [],
   "source": [
    "import csv\n",
    "import re"
   ]
  },
  {
   "cell_type": "code",
   "execution_count": 2,
   "metadata": {},
   "outputs": [],
   "source": [
    "def isFileType(string):\n",
    "    types = [\".jpg\", \".JPG\", \".gif\", \".GIF\", \".png\", \".PNG\"]\n",
    "    if string in types:\n",
    "        return True\n",
    "    return False"
   ]
  },
  {
   "cell_type": "code",
   "execution_count": 3,
   "metadata": {},
   "outputs": [],
   "source": [
    "def stripUrl(string):\n",
    "    flag = False\n",
    "    if \"http\" in string:\n",
    "        #stop at chinese words\n",
    "        fromIndex = find_str(string, \"http\")\n",
    "        toIndex = fromIndex+4\n",
    "        for j in range(toIndex, len(string)):\n",
    "            if (string[j] > u'\\u4e00' and string[j] < u'\\u9fff'):\n",
    "                flag = True\n",
    "                return stripUrl(string[:fromIndex]+\" \"+string[toIndex:])\n",
    "            elif j+3 < len(string) and isFileType(string[j:j+4]):\n",
    "                flag = True\n",
    "                toIndex += 4\n",
    "                return stripUrl(string[:fromIndex]+\" \"+string[toIndex:])\n",
    "            elif string[j].isalnum() and j == len(string)-1:\n",
    "                return stripUrl(string[:fromIndex])\n",
    "            else:\n",
    "                toIndex += 1\n",
    "        \n",
    "    return string"
   ]
  },
  {
   "cell_type": "code",
   "execution_count": 4,
   "metadata": {},
   "outputs": [],
   "source": [
    "def gram1(sentence, freq):\n",
    "    tokens = []\n",
    "    for i in range(len(sentence)):\n",
    "        tokens.append(sentence[i])\n",
    "    terms = list(set(tokens))\n",
    "    for token in tokens:\n",
    "        if token in freq.keys():\n",
    "            freq[token] += 1\n",
    "        else:\n",
    "            freq[token] = 1\n",
    "    #print(freq)\n",
    "    return freq"
   ]
  },
  {
   "cell_type": "code",
   "execution_count": 5,
   "metadata": {},
   "outputs": [],
   "source": [
    "def gram2(sentence, freq):\n",
    "    tokens = []\n",
    "    for i in range(len(sentence)):\n",
    "        if i == len(sentence):\n",
    "            break\n",
    "        else:\n",
    "            try:\n",
    "                s = sentence[i:i+2]\n",
    "                if len(s) == 2:\n",
    "                    tokens.append(s)\n",
    "            except:\n",
    "                pass\n",
    "    terms = list(set(tokens))\n",
    "    for token in tokens:\n",
    "        if token in freq.keys():\n",
    "            freq[token] += 1\n",
    "        else:\n",
    "            freq[token] = 1\n",
    "    #print(freq)\n",
    "    return freq"
   ]
  },
  {
   "cell_type": "code",
   "execution_count": 6,
   "metadata": {},
   "outputs": [],
   "source": [
    "def gram3(sentence, freq):\n",
    "    tokens = []\n",
    "    for i in range(len(sentence)):\n",
    "        if i == len(sentence)-1:\n",
    "            break\n",
    "        else:\n",
    "            try:\n",
    "                s = sentence[i:i+3]\n",
    "                if len(s) == 3:\n",
    "                    tokens.append(s)\n",
    "            except:\n",
    "                pass\n",
    "    terms = list(set(tokens))\n",
    "    for token in tokens:\n",
    "        if token in freq.keys():\n",
    "            freq[token] += 1\n",
    "        else:\n",
    "            freq[token] = 1\n",
    "    #print(freq)\n",
    "    return freq"
   ]
  },
  {
   "cell_type": "code",
   "execution_count": 7,
   "metadata": {},
   "outputs": [],
   "source": [
    "def gram4(sentence, freq):\n",
    "    tokens = []\n",
    "    for i in range(len(sentence)):\n",
    "        if i == len(sentence)-1:\n",
    "            break\n",
    "        else:\n",
    "            try:\n",
    "                s = sentence[i:i+4]\n",
    "                if len(s) == 4:\n",
    "                    tokens.append(s)\n",
    "            except:\n",
    "                pass\n",
    "    terms = list(set(tokens))\n",
    "    for token in tokens:\n",
    "        if token in freq.keys():\n",
    "            freq[token] += 1\n",
    "        else:\n",
    "            freq[token] = 1\n",
    "    #print(freq)\n",
    "    return freq"
   ]
  },
  {
   "cell_type": "code",
   "execution_count": 8,
   "metadata": {},
   "outputs": [],
   "source": [
    "def gram5(sentence, freq):\n",
    "    tokens = []\n",
    "    for i in range(len(sentence)):\n",
    "        if i == len(sentence)-1:\n",
    "            break\n",
    "        else:\n",
    "            try:\n",
    "                s = sentence[i:i+5]\n",
    "                if len(s) == 5:\n",
    "                    tokens.append(s)\n",
    "            except:\n",
    "                pass\n",
    "    terms = list(set(tokens))\n",
    "    for token in tokens:\n",
    "        if token in freq.keys():\n",
    "            freq[token] += 1\n",
    "        else:\n",
    "            freq[token] = 1\n",
    "    #print(freq)\n",
    "    return freq"
   ]
  },
  {
   "cell_type": "code",
   "execution_count": 9,
   "metadata": {},
   "outputs": [],
   "source": [
    "def gram6(sentence, freq):\n",
    "    tokens = []\n",
    "    for i in range(len(sentence)):\n",
    "        if i == len(sentence)-1:\n",
    "            break\n",
    "        else:\n",
    "            try:\n",
    "                s = sentence[i:i+6]\n",
    "                if len(s) == 6:\n",
    "                    tokens.append(s)\n",
    "            except:\n",
    "                pass\n",
    "    terms = list(set(tokens))\n",
    "    for token in tokens:\n",
    "        if token in freq.keys():\n",
    "            freq[token] += 1\n",
    "        else:\n",
    "            freq[token] = 1\n",
    "    #print(freq)\n",
    "    return freq"
   ]
  },
  {
   "cell_type": "code",
   "execution_count": 10,
   "metadata": {},
   "outputs": [],
   "source": [
    "def gram7(sentence, freq):\n",
    "    tokens = []\n",
    "    for i in range(len(sentence)):\n",
    "        if i == len(sentence)-1:\n",
    "            break\n",
    "        else:\n",
    "            try:\n",
    "                s = sentence[i:i+7]\n",
    "                if len(s) == 7:\n",
    "                    tokens.append(s)\n",
    "            except:\n",
    "                pass\n",
    "    terms = list(set(tokens))\n",
    "    for token in tokens:\n",
    "        if token in freq.keys():\n",
    "            freq[token] += 1\n",
    "        else:\n",
    "            freq[token] = 1\n",
    "    #print(freq)\n",
    "    return freq"
   ]
  },
  {
   "cell_type": "code",
   "execution_count": 11,
   "metadata": {},
   "outputs": [],
   "source": [
    "def maxMatch(sentence, dictionary):\n",
    "    i = len(sentence) - 1\n",
    "    while i >= 0:\n",
    "        firstWord = sentence[i]\n",
    "        remainder = sentence[i+1:]\n",
    "        if inDictionary(firstWord, dictionary):\n",
    "            return list[firstWord, maxMatch(remainder, dictionary)]\n",
    "        i -= 1 \n",
    "    return list[firstWord, maxMatch(remainder, dictionary)]"
   ]
  },
  {
   "cell_type": "code",
   "execution_count": 12,
   "metadata": {},
   "outputs": [],
   "source": [
    "def inDictionary(firstWord, D):\n",
    "    return True"
   ]
  },
  {
   "cell_type": "code",
   "execution_count": 13,
   "metadata": {},
   "outputs": [],
   "source": [
    "def find_str(s, char):\n",
    "    index = 0\n",
    "\n",
    "    if char in s:\n",
    "        c = char[0]\n",
    "        for ch in s:\n",
    "            if ch == c:\n",
    "                if s[index:index+len(char)] == char:\n",
    "                    return index\n",
    "\n",
    "            index += 1\n",
    "\n",
    "    return -1"
   ]
  },
  {
   "cell_type": "code",
   "execution_count": 14,
   "metadata": {},
   "outputs": [],
   "source": [
    "#read 12000 dataset\n",
    "data = []\n",
    "with open('12000data.csv', newline='') as csvfile:\n",
    "\n",
    "    # 讀取 CSV 檔案內容\n",
    "    rows = csv.reader(csvfile)\n",
    "    i = 0\n",
    "    # 以迴圈輸出每一列\n",
    "    for row in rows:\n",
    "        if i == 0:\n",
    "            i += 1\n",
    "            continue\n",
    "        else:\n",
    "            push = row[2]\n",
    "            push = push.replace(\" \", \"\").replace(\"，\", \"\").replace(\"/\", \"\")\n",
    "            push = push.replace(\"？\",\"\").replace(\"?\", \"\").replace(\"!\", \"\").replace(\"！\",\"\")\n",
    "            push = push.replace(\"～\",\"\").replace(\"~\", \"\").replace(\"\\u3000\", \"\").replace(\"。\",\"\")\n",
    "            push = push.replace(\"\\\"\", \"\").replace(\"-\",\"\")\n",
    "            if \"http\" in push:\n",
    "                #print(\"----------------------------\")\n",
    "                #print(\"before: \"+push)\n",
    "                push = stripUrl(push)\n",
    "                #print(\"after: \"+push)\n",
    "            data.append(push)\n",
    "            #print(push)\n",
    "            i += 1"
   ]
  },
  {
   "cell_type": "code",
   "execution_count": 214,
   "metadata": {},
   "outputs": [],
   "source": [
    "freq1 = {}\n",
    "for i in range(len(data)):\n",
    "    result = gram1(data[i], freq1)\n",
    "    #print(data[i])\n",
    "    #print(result)\n",
    "freq1 = sorted(freq1.items(), key=lambda x: x[1], reverse=True)\n",
    "#print(freq1)"
   ]
  },
  {
   "cell_type": "code",
   "execution_count": 33,
   "metadata": {},
   "outputs": [],
   "source": [
    "freq2 = {}\n",
    "for i in range(len(data)):\n",
    "    result = gram2(data[i], freq2)\n",
    "    #print(data[i])\n",
    "    #print(result)\n",
    "freq2 = sorted(freq2.items(), key=lambda x: x[1], reverse=True)\n",
    "with open(\"freq2.txt\", \"w\") as f:\n",
    "    for i in range(len(freq2)):\n",
    "        if freq2[i][1] >= 3:\n",
    "            f.write(str(freq2[i][0])+\",\"+str(freq2[i][1])+\"\\n\")"
   ]
  },
  {
   "cell_type": "code",
   "execution_count": 31,
   "metadata": {},
   "outputs": [],
   "source": [
    "freq3 = {}\n",
    "for i in range(len(data)):\n",
    "    result = gram3(data[i], freq3)\n",
    "    #print(data[i])\n",
    "    #print(result)\n",
    "freq3 = sorted(freq3.items(), key=lambda x: x[1], reverse=True)\n",
    "with open(\"freq3.txt\", \"w\") as f:\n",
    "    for i in range(len(freq3)):\n",
    "        if freq3[i][1] >= 3:\n",
    "            f.write(str(freq3[i][0])+\",\"+str(freq3[i][1])+\"\\n\")"
   ]
  },
  {
   "cell_type": "code",
   "execution_count": 30,
   "metadata": {},
   "outputs": [],
   "source": [
    "freq4 = {}\n",
    "for i in range(len(data)):\n",
    "    result = gram4(data[i], freq4)\n",
    "    #print(data[i])\n",
    "    #print(result)\n",
    "freq4 = sorted(freq4.items(), key=lambda x: x[1], reverse=True)\n",
    "with open(\"freq4.txt\", \"w\") as f:\n",
    "    for i in range(len(freq4)):\n",
    "        if freq4[i][1] >= 3:\n",
    "            f.write(str(freq4[i][0])+\",\"+str(freq4[i][1])+\"\\n\")"
   ]
  },
  {
   "cell_type": "code",
   "execution_count": 29,
   "metadata": {},
   "outputs": [],
   "source": [
    "freq5 = {}\n",
    "for i in range(len(data)):\n",
    "    result = gram5(data[i], freq5)\n",
    "    #print(data[i])\n",
    "    #print(result)\n",
    "freq5 = sorted(freq5.items(), key=lambda x: x[1], reverse=True)\n",
    "with open(\"freq5.txt\", \"w\") as f:\n",
    "    for i in range(len(freq5)):\n",
    "        if freq5[i][1] >= 3:\n",
    "            f.write(str(freq5[i][0])+\",\"+str(freq5[i][1])+\"\\n\")"
   ]
  },
  {
   "cell_type": "code",
   "execution_count": 28,
   "metadata": {},
   "outputs": [],
   "source": [
    "freq6 = {}\n",
    "for i in range(len(data)):\n",
    "    result = gram6(data[i], freq6)\n",
    "    #print(data[i])\n",
    "    #print(result)\n",
    "freq6 = sorted(freq6.items(), key=lambda x: x[1], reverse=True)\n",
    "with open(\"freq6.txt\", \"w\") as f:\n",
    "    for i in range(len(freq6)):\n",
    "        if freq6[i][1] >= 3:\n",
    "            f.write(str(freq6[i][0])+\",\"+str(freq6[i][1])+\"\\n\")"
   ]
  },
  {
   "cell_type": "code",
   "execution_count": 27,
   "metadata": {},
   "outputs": [],
   "source": [
    "freq7 = {}\n",
    "for i in range(len(data)):\n",
    "    result = gram7(data[i], freq7)\n",
    "    #print(data[i])\n",
    "    #print(result)\n",
    "freq7 = sorted(freq7.items(), key=lambda x: x[1], reverse=True)\n",
    "with open(\"freq7.txt\", \"w\") as f:\n",
    "    for i in range(len(freq7)):\n",
    "        if freq7[i][1] >= 3:\n",
    "            f.write(str(freq7[i][0])+\",\"+str(freq7[i][1])+\"\\n\")"
   ]
  },
  {
   "cell_type": "code",
   "execution_count": null,
   "metadata": {},
   "outputs": [],
   "source": []
  }
 ],
 "metadata": {
  "kernelspec": {
   "display_name": "Python 3",
   "language": "python",
   "name": "python3"
  },
  "language_info": {
   "codemirror_mode": {
    "name": "ipython",
    "version": 3
   },
   "file_extension": ".py",
   "mimetype": "text/x-python",
   "name": "python",
   "nbconvert_exporter": "python",
   "pygments_lexer": "ipython3",
   "version": "3.7.3"
  }
 },
 "nbformat": 4,
 "nbformat_minor": 4
}
